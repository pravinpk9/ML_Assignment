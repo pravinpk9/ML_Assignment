{
 "cells": [
  {
   "cell_type": "code",
   "execution_count": 6,
   "metadata": {},
   "outputs": [
    {
     "name": "stdout",
     "output_type": "stream",
     "text": [
      "Dataframe info before the binning  (90, 7)\n",
      "Dataframe info before the binning \n",
      "     sex  age   Time  Number_of_Warts  Type  Area  Result_of_Treatment\n",
      "0     1   35  12.00                5     1   100                    0\n",
      "1     1   29   7.00                5     1    96                    1\n",
      "2     1   50   8.00                1     3   132                    0\n",
      "3     1   32  11.75                7     3   750                    0\n",
      "4     1   67   9.25                1     1    42                    0\n",
      "..  ...  ...    ...              ...   ...   ...                  ...\n",
      "85    2   34  12.00                3     3    95                    0\n",
      "86    2   20   3.50                6     1    75                    1\n",
      "87    2   35   8.25                8     3   100                    0\n",
      "88    1   24  10.75               10     1    20                    1\n",
      "89    1   19   8.00                8     1   160                    1\n",
      "\n",
      "[90 rows x 7 columns]\n"
     ]
    }
   ],
   "source": [
    "import pandas as pd\n",
    "import pandas as pd\n",
    "import numpy as np\n",
    "\n",
    "df = pd.read_excel('Cryotherapy.xlsx')\n",
    "print(\"Dataframe info before the binning \",df.shape)\n",
    "print(\"Dataframe info before the binning \\n\",df)"
   ]
  },
  {
   "cell_type": "code",
   "execution_count": 7,
   "metadata": {},
   "outputs": [
    {
     "name": "stdout",
     "output_type": "stream",
     "text": [
      "Dataframe shape after binning and removing the original column (90, 7)\n",
      "Dataframe info after binning and removing the original column \n",
      "     sex  Type  Result_of_Treatment agebinned timebinned wartbinned areabinned\n",
      "0     1     1                    0         2          3          2          1\n",
      "1     1     1                    1         1          2          2          1\n",
      "2     1     3                    0         3          2          1          1\n",
      "3     1     3                    0         1          3          2          3\n",
      "4     1     1                    0         3          3          1          1\n",
      "..  ...   ...                  ...       ...        ...        ...        ...\n",
      "85    2     3                    0         2          3          1          1\n",
      "86    2     1                    1         1          1          2          1\n",
      "87    2     3                    0         2          3          2          1\n",
      "88    1     1                    1         1          3          3          1\n",
      "89    1     1                    1         1          2          2          1\n",
      "\n",
      "[90 rows x 7 columns]\n"
     ]
    }
   ],
   "source": [
    "# Bin the data frame by \"age\" with 4 bins...\n",
    "age_bins = np.linspace(df.age.min(), df.age.max(), 4)\n",
    "#print(\"Age bin\",age_bins)\n",
    "labels = [1,2,3]\n",
    "df['agebinned'] = pd.cut(df['age'], bins=age_bins, labels=labels,include_lowest= True)\n",
    "#print(df['agebinned'])\n",
    "\n",
    "# Bin the data frame by \"Time\" with 4 bins...\n",
    "time_bins = np.linspace(df.Time.min(), df.Time.max(), 4)\n",
    "#print(time_bins)\n",
    "labels = [1,2,3]\n",
    "df['timebinned'] = pd.cut(df['Time'], bins=time_bins, labels=labels,include_lowest= True)\n",
    "#print(df['timebinned'])\n",
    "\n",
    "# Bin the data frame by \"Number_of_Warts\" with 4 bins...\n",
    "wart_bins = np.linspace(df.Number_of_Warts.min(), df.Number_of_Warts.max(), 4)\n",
    "#print(wart_bins)\n",
    "labels = [1,2,3]\n",
    "df['wartbinned'] = pd.cut(df['Number_of_Warts'], bins=wart_bins, labels=labels,include_lowest= True)\n",
    "#print(df['wartbinned'])\n",
    "\n",
    "# Bin the data frame by \"Area\" with 4 bins...\n",
    "area_bins = np.linspace(df.Area.min(), df.Area.max(), 4)\n",
    "#print(area_bins)\n",
    "labels = [1,2,3]\n",
    "df['areabinned'] = pd.cut(df['Area'], bins=area_bins, labels=labels,include_lowest= True)\n",
    "#print(df['areabinned'])\n",
    "\n",
    "\n",
    "#drop original columns by name\n",
    "df.drop(['Number_of_Warts', 'Area','Time','age'], axis=1, inplace=True)\n",
    "\n",
    "print(\"Dataframe shape after binning and removing the original column\",df.shape)\n",
    "print(\"Dataframe info after binning and removing the original column \\n\",df)"
   ]
  },
  {
   "cell_type": "code",
   "execution_count": 8,
   "metadata": {},
   "outputs": [
    {
     "data": {
      "text/plain": [
       "array([[2, 2, 1, 1, 1, 3, 1]])"
      ]
     },
     "execution_count": 8,
     "metadata": {},
     "output_type": "execute_result"
    }
   ],
   "source": [
    "from pomegranate import *\n",
    "\n",
    "model = BayesianNetwork.from_samples(df.to_numpy(), state_names=df.columns.values, algorithm='exact')\n",
    "#plt.plot()\n",
    "model.sample()"
   ]
  },
  {
   "cell_type": "markdown",
   "metadata": {},
   "source": [
    "# Column order after binning is - sex, Type, Result_of_Treatment, agebinned, timebinned, wartbinned, areabinned"
   ]
  },
  {
   "cell_type": "code",
   "execution_count": 9,
   "metadata": {},
   "outputs": [],
   "source": [
    "model.bake()"
   ]
  },
  {
   "cell_type": "code",
   "execution_count": 10,
   "metadata": {},
   "outputs": [
    {
     "data": {
      "text/plain": [
       "array([{\n",
       "           \"class\" : \"Distribution\",\n",
       "           \"dtype\" : \"int\",\n",
       "           \"name\" : \"DiscreteDistribution\",\n",
       "           \"parameters\" : [\n",
       "               {\n",
       "                   \"1\" : 0.5222222222222223,\n",
       "                   \"2\" : 0.4777777777777778\n",
       "               }\n",
       "           ],\n",
       "           \"frozen\" : false\n",
       "       }                                    ,\n",
       "       {\n",
       "           \"class\" : \"Distribution\",\n",
       "           \"dtype\" : \"int\",\n",
       "           \"name\" : \"DiscreteDistribution\",\n",
       "           \"parameters\" : [\n",
       "               {\n",
       "                   \"1\" : 0.5999999999999999,\n",
       "                   \"2\" : 0.10000000000000012,\n",
       "                   \"3\" : 0.3000000000000001\n",
       "               }\n",
       "           ],\n",
       "           \"frozen\" : false\n",
       "       }                                     ,\n",
       "       {\n",
       "           \"class\" : \"Distribution\",\n",
       "           \"dtype\" : \"int\",\n",
       "           \"name\" : \"DiscreteDistribution\",\n",
       "           \"parameters\" : [\n",
       "               {\n",
       "                   \"0\" : 0.46666666666666656,\n",
       "                   \"1\" : 0.5333333333333334\n",
       "               }\n",
       "           ],\n",
       "           \"frozen\" : false\n",
       "       }                                     ,\n",
       "       {\n",
       "           \"class\" : \"Distribution\",\n",
       "           \"dtype\" : \"int\",\n",
       "           \"name\" : \"DiscreteDistribution\",\n",
       "           \"parameters\" : [\n",
       "               {\n",
       "                   \"1\" : 0.6666666666666666,\n",
       "                   \"2\" : 0.23333333333333336,\n",
       "                   \"3\" : 0.10000000000000012\n",
       "               }\n",
       "           ],\n",
       "           \"frozen\" : false\n",
       "       }                                     ,\n",
       "       {\n",
       "           \"class\" : \"Distribution\",\n",
       "           \"dtype\" : \"int\",\n",
       "           \"name\" : \"DiscreteDistribution\",\n",
       "           \"parameters\" : [\n",
       "               {\n",
       "                   \"1\" : 0.21111111111111133,\n",
       "                   \"2\" : 0.26666666666666694,\n",
       "                   \"3\" : 0.5222222222222216\n",
       "               }\n",
       "           ],\n",
       "           \"frozen\" : false\n",
       "       }                                     ,\n",
       "       {\n",
       "           \"class\" : \"Distribution\",\n",
       "           \"dtype\" : \"int\",\n",
       "           \"name\" : \"DiscreteDistribution\",\n",
       "           \"parameters\" : [\n",
       "               {\n",
       "                   \"1\" : 0.4555555555555555,\n",
       "                   \"2\" : 0.3,\n",
       "                   \"3\" : 0.2444444444444445\n",
       "               }\n",
       "           ],\n",
       "           \"frozen\" : false\n",
       "       }                                    ,\n",
       "       {\n",
       "           \"class\" : \"Distribution\",\n",
       "           \"dtype\" : \"int\",\n",
       "           \"name\" : \"DiscreteDistribution\",\n",
       "           \"parameters\" : [\n",
       "               {\n",
       "                   \"1\" : 0.9666666666666666,\n",
       "                   \"3\" : 0.03333333333333352\n",
       "               }\n",
       "           ],\n",
       "           \"frozen\" : false\n",
       "       }                                    ], dtype=object)"
      ]
     },
     "execution_count": 10,
     "metadata": {},
     "output_type": "execute_result"
    }
   ],
   "source": [
    "model.predict_proba({})"
   ]
  },
  {
   "cell_type": "code",
   "execution_count": 11,
   "metadata": {},
   "outputs": [],
   "source": [
    "def getbinnedValue(val,binname):\n",
    "    binvalue=(pd.cut([val], bins=binname, labels=labels,include_lowest=True))\n",
    "    return binvalue[0]"
   ]
  },
  {
   "cell_type": "code",
   "execution_count": 12,
   "metadata": {},
   "outputs": [
    {
     "name": "stdout",
     "output_type": "stream",
     "text": [
      "Predict whether the treatment was successful or not - Female Patient who is 33 years old with 12 number of type 3 warts\n",
      "Probablity of Unsuccess 0.9546044098573278\n",
      "Probablity of Success 0.045395590142672186\n"
     ]
    }
   ],
   "source": [
    "#Predict whether the treatment was successful or not using the following data:\n",
    "#Female Patient who is 33 years old with 12 number of type 3 warts.\n",
    "\n",
    "#Sex=1, considered as female\n",
    "\n",
    "#sex=1\n",
    "#age=33 > 2 bin - 32.33333333< x<=49.66666667 67\n",
    "#type=3\n",
    "#warts=12 > 3 bin   1<X<=4.66666667<X<=8.33333333<X<=12\n",
    "\n",
    "result_prob_mod=model.predict_proba([[1, 3, None, getbinnedValue(33,age_bins), None, getbinnedValue(12,wart_bins), None]])\n",
    "\n",
    "print(\"Predict whether the treatment was successful or not - Female Patient who is 33 years old with 12 number of type 3 warts\")\n",
    "print(\"Probablity of Unsuccess\",((((result_prob_mod[0])[2]).parameters)[0])[0])\n",
    "print(\"Probablity of Success\",((((result_prob_mod[0])[2]).parameters)[0])[1])\n"
   ]
  },
  {
   "cell_type": "code",
   "execution_count": 13,
   "metadata": {},
   "outputs": [
    {
     "name": "stdout",
     "output_type": "stream",
     "text": [
      "Infer the probability for the data - A male aged 67 who has type 1 wart in area 51 and had a successful treatment\n",
      "Probablity is  0.0\n"
     ]
    }
   ],
   "source": [
    "#Sex=1, considered as female\n",
    "#Infer the probability for the data with the following properties\n",
    "#A male aged 67 who has type 1 wart in area 51 and had a successful treatment\n",
    "\n",
    "#sex=2\n",
    "#age=67 > 3 bin - 32.33333333< x<=49.66666667 67\n",
    "#type=1\n",
    "#warts=12 > 3 bin   1<X<=4.66666667<X<=8.33333333<X<=12\n",
    "#area - 51 > 1 bin  4.         252.66666667 501.33333333 750.\n",
    "\n",
    "print(\"Infer the probability for the data - A male aged 67 who has type 1 wart in area 51 and had a successful treatment\")\n",
    "print(\"Probablity is \",model.probability([[2, 1, 1, getbinnedValue(67,age_bins), None, getbinnedValue(12,wart_bins), getbinnedValue(51,area_bins)]]))"
   ]
  },
  {
   "cell_type": "code",
   "execution_count": 14,
   "metadata": {},
   "outputs": [
    {
     "name": "stdout",
     "output_type": "stream",
     "text": [
      "Find the probability of the patient - Age 15, Gender Male, Number of warts 5, Type 2, Area 100 and Treatment unsuccessful\n",
      "Probablity is  0.0038479915775834145\n"
     ]
    }
   ],
   "source": [
    "#Find the probability of the patient Age 15, Gender Male, Number of warts 5, Type 2, Area 100 and Treatment unsuccessful.\n",
    "#model.predict_proba([[sex, Type, Result, agebinned, timebinned, wartbinned, areabinned]])\n",
    "#Sex=1, considered as female\n",
    "\n",
    "#sex=2\n",
    "#age=15 > 1 bin - 15<X<32.33333333\n",
    "#type=2\n",
    "#warts=5 > 2 bin - 4.66666667<X<8.33333333\n",
    "#Area 100 > 1 bin - 4<X<252.66666667\n",
    "\n",
    "print(\"Find the probability of the patient - Age 15, Gender Male, Number of warts 5, Type 2, Area 100 and Treatment unsuccessful\")\n",
    "print(\"Probablity is \",model.probability([[2, 2, 0, getbinnedValue(15,age_bins), None, getbinnedValue(5,wart_bins), getbinnedValue(100,area_bins)]]))\n"
   ]
  }
 ],
 "metadata": {
  "kernelspec": {
   "display_name": "Python 3",
   "language": "python",
   "name": "python3"
  },
  "language_info": {
   "codemirror_mode": {
    "name": "ipython",
    "version": 3
   },
   "file_extension": ".py",
   "mimetype": "text/x-python",
   "name": "python",
   "nbconvert_exporter": "python",
   "pygments_lexer": "ipython3",
   "version": "3.7.6"
  }
 },
 "nbformat": 4,
 "nbformat_minor": 4
}
