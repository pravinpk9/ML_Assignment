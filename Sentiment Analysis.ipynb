{
 "cells": [
  {
   "cell_type": "code",
   "execution_count": 1,
   "id": "f827ba05",
   "metadata": {},
   "outputs": [],
   "source": [
    "# importing the \"tarfile\" module \n",
    "import tarfile \n",
    "import pandas as pd\n",
    "import os"
   ]
  },
  {
   "cell_type": "code",
   "execution_count": 2,
   "id": "dc2e6078",
   "metadata": {},
   "outputs": [
    {
     "name": "stdout",
     "output_type": "stream",
     "text": [
      "<class 'pandas.core.frame.DataFrame'>\n",
      "Index: 0 entries\n",
      "Data columns (total 2 columns):\n",
      " #   Column  Non-Null Count  Dtype \n",
      "---  ------  --------------  ----- \n",
      " 0   Data    0 non-null      object\n",
      " 1   Actual  0 non-null      object\n",
      "dtypes: object(2)\n",
      "memory usage: 0.0+ bytes\n"
     ]
    }
   ],
   "source": [
    "## open file \n",
    "#file = tarfile.open('review_polarity.tar.gz') \n",
    "# extracting file \n",
    "#file.extractall('./Destination_FolderName') \n",
    "#file.close() \n",
    "\n",
    "  \n",
    "# create an Empty DataFrame\n",
    "# object With column names only\n",
    "df = pd.DataFrame(columns = ['Data', 'Actual'])\n",
    "df.info()"
   ]
  },
  {
   "cell_type": "code",
   "execution_count": 3,
   "id": "8defd7d1",
   "metadata": {},
   "outputs": [],
   "source": [
    "\n",
    "#Positive and negative reviews folder paths \n",
    "pos_folder =\"./txt_sentoken/pos\"\n",
    "neg_folder ='./txt_sentoken/neg'\n",
    "\n",
    "#Positive and negative file names\n",
    "pos_review_files=os.listdir(pos_folder)\n",
    "neg_review_files=os.listdir(neg_folder)"
   ]
  },
  {
   "cell_type": "code",
   "execution_count": 4,
   "id": "f30c801d",
   "metadata": {},
   "outputs": [],
   "source": [
    "def load_text_from_textfile(path):\n",
    "    file=open(path,\"r\")\n",
    "    review=file.read()\n",
    "    file.close()\n",
    "    \n",
    "    return review\n",
    "\n",
    "def load_review_from_textfile(path):\n",
    "    return load_text_from_textfile(path)"
   ]
  },
  {
   "cell_type": "code",
   "execution_count": 5,
   "id": "3e3a0f5b",
   "metadata": {},
   "outputs": [],
   "source": [
    "def get_data_target(folder_path, file_names, isPos, dataframe):\n",
    "    dataframe = pd.DataFrame(columns = ['Data', 'Actual'])\n",
    "    for file_name in file_names:\n",
    "        full_path = folder_path + \"/\" + file_name\n",
    "        review =load_review_from_textfile(path=full_path)\n",
    "        dataframe = dataframe.append({'Data' : review, 'Actual' : isPos}, \n",
    "                ignore_index = True)\n",
    "    return dataframe"
   ]
  },
  {
   "cell_type": "code",
   "execution_count": 6,
   "id": "b8beb4e2",
   "metadata": {},
   "outputs": [
    {
     "name": "stdout",
     "output_type": "stream",
     "text": [
      "Positive data read completed...\n",
      "positive data length: 1000\n"
     ]
    }
   ],
   "source": [
    "df_pos = pd.DataFrame(columns = ['Data', 'Actual'])\n",
    "\n",
    "df_pos =get_data_target(folder_path=pos_folder,\n",
    "               file_names=pos_review_files, isPos = 1, dataframe=df_pos)\n",
    "print(\"Positive data read completed...\")\n",
    "print(\"positive data length:\",len(df_pos))\n",
    "\n"
   ]
  },
  {
   "cell_type": "code",
   "execution_count": 7,
   "id": "031c330b",
   "metadata": {},
   "outputs": [
    {
     "data": {
      "text/html": [
       "<div>\n",
       "<style scoped>\n",
       "    .dataframe tbody tr th:only-of-type {\n",
       "        vertical-align: middle;\n",
       "    }\n",
       "\n",
       "    .dataframe tbody tr th {\n",
       "        vertical-align: top;\n",
       "    }\n",
       "\n",
       "    .dataframe thead th {\n",
       "        text-align: right;\n",
       "    }\n",
       "</style>\n",
       "<table border=\"1\" class=\"dataframe\">\n",
       "  <thead>\n",
       "    <tr style=\"text-align: right;\">\n",
       "      <th></th>\n",
       "      <th>Data</th>\n",
       "      <th>Actual</th>\n",
       "    </tr>\n",
       "  </thead>\n",
       "  <tbody>\n",
       "    <tr>\n",
       "      <th>0</th>\n",
       "      <td>films adapted from comic books have had plenty...</td>\n",
       "      <td>1</td>\n",
       "    </tr>\n",
       "    <tr>\n",
       "      <th>1</th>\n",
       "      <td>every now and then a movie comes along from a ...</td>\n",
       "      <td>1</td>\n",
       "    </tr>\n",
       "    <tr>\n",
       "      <th>2</th>\n",
       "      <td>you've got mail works alot better than it dese...</td>\n",
       "      <td>1</td>\n",
       "    </tr>\n",
       "    <tr>\n",
       "      <th>3</th>\n",
       "      <td>\" jaws \" is a rare film that grabs your atten...</td>\n",
       "      <td>1</td>\n",
       "    </tr>\n",
       "    <tr>\n",
       "      <th>4</th>\n",
       "      <td>moviemaking is a lot like being the general ma...</td>\n",
       "      <td>1</td>\n",
       "    </tr>\n",
       "    <tr>\n",
       "      <th>...</th>\n",
       "      <td>...</td>\n",
       "      <td>...</td>\n",
       "    </tr>\n",
       "    <tr>\n",
       "      <th>995</th>\n",
       "      <td>wow ! what a movie . \\nit's everything a movie...</td>\n",
       "      <td>1</td>\n",
       "    </tr>\n",
       "    <tr>\n",
       "      <th>996</th>\n",
       "      <td>richard gere can be a commanding actor , but h...</td>\n",
       "      <td>1</td>\n",
       "    </tr>\n",
       "    <tr>\n",
       "      <th>997</th>\n",
       "      <td>glory--starring matthew broderick , denzel was...</td>\n",
       "      <td>1</td>\n",
       "    </tr>\n",
       "    <tr>\n",
       "      <th>998</th>\n",
       "      <td>steven spielberg's second epic film on world w...</td>\n",
       "      <td>1</td>\n",
       "    </tr>\n",
       "    <tr>\n",
       "      <th>999</th>\n",
       "      <td>truman ( \" true-man \" ) burbank is the perfect...</td>\n",
       "      <td>1</td>\n",
       "    </tr>\n",
       "  </tbody>\n",
       "</table>\n",
       "<p>1000 rows × 2 columns</p>\n",
       "</div>"
      ],
      "text/plain": [
       "                                                  Data Actual\n",
       "0    films adapted from comic books have had plenty...      1\n",
       "1    every now and then a movie comes along from a ...      1\n",
       "2    you've got mail works alot better than it dese...      1\n",
       "3     \" jaws \" is a rare film that grabs your atten...      1\n",
       "4    moviemaking is a lot like being the general ma...      1\n",
       "..                                                 ...    ...\n",
       "995  wow ! what a movie . \\nit's everything a movie...      1\n",
       "996  richard gere can be a commanding actor , but h...      1\n",
       "997  glory--starring matthew broderick , denzel was...      1\n",
       "998  steven spielberg's second epic film on world w...      1\n",
       "999  truman ( \" true-man \" ) burbank is the perfect...      1\n",
       "\n",
       "[1000 rows x 2 columns]"
      ]
     },
     "execution_count": 7,
     "metadata": {},
     "output_type": "execute_result"
    }
   ],
   "source": [
    "df_pos"
   ]
  },
  {
   "cell_type": "code",
   "execution_count": 8,
   "id": "a8cb8ec4",
   "metadata": {},
   "outputs": [
    {
     "name": "stdout",
     "output_type": "stream",
     "text": [
      "Negative data read completed..\n",
      "negative data length : 1000\n"
     ]
    }
   ],
   "source": [
    "df_neg = pd.DataFrame(columns = ['Data', 'Actual'])\n",
    "\n",
    "df_neg = get_data_target(folder_path=neg_folder,\n",
    "               file_names=neg_review_files, isPos = 0, dataframe=df_neg)\n",
    "print(\"Negative data read completed..\")\n",
    "print(\"negative data length :\",len(df_neg))\n"
   ]
  },
  {
   "cell_type": "code",
   "execution_count": 9,
   "id": "62e0a300",
   "metadata": {},
   "outputs": [
    {
     "data": {
      "text/html": [
       "<div>\n",
       "<style scoped>\n",
       "    .dataframe tbody tr th:only-of-type {\n",
       "        vertical-align: middle;\n",
       "    }\n",
       "\n",
       "    .dataframe tbody tr th {\n",
       "        vertical-align: top;\n",
       "    }\n",
       "\n",
       "    .dataframe thead th {\n",
       "        text-align: right;\n",
       "    }\n",
       "</style>\n",
       "<table border=\"1\" class=\"dataframe\">\n",
       "  <thead>\n",
       "    <tr style=\"text-align: right;\">\n",
       "      <th></th>\n",
       "      <th>Data</th>\n",
       "      <th>Actual</th>\n",
       "    </tr>\n",
       "  </thead>\n",
       "  <tbody>\n",
       "    <tr>\n",
       "      <th>0</th>\n",
       "      <td>plot : two teen couples go to a church party ,...</td>\n",
       "      <td>0</td>\n",
       "    </tr>\n",
       "    <tr>\n",
       "      <th>1</th>\n",
       "      <td>the happy bastard's quick movie review \\ndamn ...</td>\n",
       "      <td>0</td>\n",
       "    </tr>\n",
       "    <tr>\n",
       "      <th>2</th>\n",
       "      <td>it is movies like these that make a jaded movi...</td>\n",
       "      <td>0</td>\n",
       "    </tr>\n",
       "    <tr>\n",
       "      <th>3</th>\n",
       "      <td>\" quest for camelot \" is warner bros . ' firs...</td>\n",
       "      <td>0</td>\n",
       "    </tr>\n",
       "    <tr>\n",
       "      <th>4</th>\n",
       "      <td>synopsis : a mentally unstable man undergoing ...</td>\n",
       "      <td>0</td>\n",
       "    </tr>\n",
       "    <tr>\n",
       "      <th>...</th>\n",
       "      <td>...</td>\n",
       "      <td>...</td>\n",
       "    </tr>\n",
       "    <tr>\n",
       "      <th>995</th>\n",
       "      <td>if anything , \" stigmata \" should be taken as ...</td>\n",
       "      <td>0</td>\n",
       "    </tr>\n",
       "    <tr>\n",
       "      <th>996</th>\n",
       "      <td>john boorman's \" zardoz \" is a goofy cinematic...</td>\n",
       "      <td>0</td>\n",
       "    </tr>\n",
       "    <tr>\n",
       "      <th>997</th>\n",
       "      <td>the kids in the hall are an acquired taste . \\...</td>\n",
       "      <td>0</td>\n",
       "    </tr>\n",
       "    <tr>\n",
       "      <th>998</th>\n",
       "      <td>there was a time when john carpenter was a gre...</td>\n",
       "      <td>0</td>\n",
       "    </tr>\n",
       "    <tr>\n",
       "      <th>999</th>\n",
       "      <td>two party guys bob their heads to haddaway's d...</td>\n",
       "      <td>0</td>\n",
       "    </tr>\n",
       "  </tbody>\n",
       "</table>\n",
       "<p>1000 rows × 2 columns</p>\n",
       "</div>"
      ],
      "text/plain": [
       "                                                  Data Actual\n",
       "0    plot : two teen couples go to a church party ,...      0\n",
       "1    the happy bastard's quick movie review \\ndamn ...      0\n",
       "2    it is movies like these that make a jaded movi...      0\n",
       "3     \" quest for camelot \" is warner bros . ' firs...      0\n",
       "4    synopsis : a mentally unstable man undergoing ...      0\n",
       "..                                                 ...    ...\n",
       "995  if anything , \" stigmata \" should be taken as ...      0\n",
       "996  john boorman's \" zardoz \" is a goofy cinematic...      0\n",
       "997  the kids in the hall are an acquired taste . \\...      0\n",
       "998  there was a time when john carpenter was a gre...      0\n",
       "999  two party guys bob their heads to haddaway's d...      0\n",
       "\n",
       "[1000 rows x 2 columns]"
      ]
     },
     "execution_count": 9,
     "metadata": {},
     "output_type": "execute_result"
    }
   ],
   "source": [
    "df_neg"
   ]
  },
  {
   "cell_type": "code",
   "execution_count": 10,
   "id": "2b1ce8a3",
   "metadata": {},
   "outputs": [],
   "source": [
    "# Append Positive and Negative Data \n",
    "\n",
    "data = df_pos.append(df_neg)"
   ]
  },
  {
   "cell_type": "code",
   "execution_count": 11,
   "id": "611215c7",
   "metadata": {},
   "outputs": [
    {
     "data": {
      "text/html": [
       "<div>\n",
       "<style scoped>\n",
       "    .dataframe tbody tr th:only-of-type {\n",
       "        vertical-align: middle;\n",
       "    }\n",
       "\n",
       "    .dataframe tbody tr th {\n",
       "        vertical-align: top;\n",
       "    }\n",
       "\n",
       "    .dataframe thead th {\n",
       "        text-align: right;\n",
       "    }\n",
       "</style>\n",
       "<table border=\"1\" class=\"dataframe\">\n",
       "  <thead>\n",
       "    <tr style=\"text-align: right;\">\n",
       "      <th></th>\n",
       "      <th>Data</th>\n",
       "      <th>Actual</th>\n",
       "    </tr>\n",
       "  </thead>\n",
       "  <tbody>\n",
       "    <tr>\n",
       "      <th>0</th>\n",
       "      <td>films adapted from comic books have had plenty...</td>\n",
       "      <td>1</td>\n",
       "    </tr>\n",
       "    <tr>\n",
       "      <th>1</th>\n",
       "      <td>every now and then a movie comes along from a ...</td>\n",
       "      <td>1</td>\n",
       "    </tr>\n",
       "    <tr>\n",
       "      <th>2</th>\n",
       "      <td>you've got mail works alot better than it dese...</td>\n",
       "      <td>1</td>\n",
       "    </tr>\n",
       "    <tr>\n",
       "      <th>3</th>\n",
       "      <td>\" jaws \" is a rare film that grabs your atten...</td>\n",
       "      <td>1</td>\n",
       "    </tr>\n",
       "    <tr>\n",
       "      <th>4</th>\n",
       "      <td>moviemaking is a lot like being the general ma...</td>\n",
       "      <td>1</td>\n",
       "    </tr>\n",
       "    <tr>\n",
       "      <th>...</th>\n",
       "      <td>...</td>\n",
       "      <td>...</td>\n",
       "    </tr>\n",
       "    <tr>\n",
       "      <th>995</th>\n",
       "      <td>if anything , \" stigmata \" should be taken as ...</td>\n",
       "      <td>0</td>\n",
       "    </tr>\n",
       "    <tr>\n",
       "      <th>996</th>\n",
       "      <td>john boorman's \" zardoz \" is a goofy cinematic...</td>\n",
       "      <td>0</td>\n",
       "    </tr>\n",
       "    <tr>\n",
       "      <th>997</th>\n",
       "      <td>the kids in the hall are an acquired taste . \\...</td>\n",
       "      <td>0</td>\n",
       "    </tr>\n",
       "    <tr>\n",
       "      <th>998</th>\n",
       "      <td>there was a time when john carpenter was a gre...</td>\n",
       "      <td>0</td>\n",
       "    </tr>\n",
       "    <tr>\n",
       "      <th>999</th>\n",
       "      <td>two party guys bob their heads to haddaway's d...</td>\n",
       "      <td>0</td>\n",
       "    </tr>\n",
       "  </tbody>\n",
       "</table>\n",
       "<p>2000 rows × 2 columns</p>\n",
       "</div>"
      ],
      "text/plain": [
       "                                                  Data Actual\n",
       "0    films adapted from comic books have had plenty...      1\n",
       "1    every now and then a movie comes along from a ...      1\n",
       "2    you've got mail works alot better than it dese...      1\n",
       "3     \" jaws \" is a rare film that grabs your atten...      1\n",
       "4    moviemaking is a lot like being the general ma...      1\n",
       "..                                                 ...    ...\n",
       "995  if anything , \" stigmata \" should be taken as ...      0\n",
       "996  john boorman's \" zardoz \" is a goofy cinematic...      0\n",
       "997  the kids in the hall are an acquired taste . \\...      0\n",
       "998  there was a time when john carpenter was a gre...      0\n",
       "999  two party guys bob their heads to haddaway's d...      0\n",
       "\n",
       "[2000 rows x 2 columns]"
      ]
     },
     "execution_count": 11,
     "metadata": {},
     "output_type": "execute_result"
    }
   ],
   "source": [
    "data"
   ]
  },
  {
   "cell_type": "code",
   "execution_count": 12,
   "id": "9d324eac",
   "metadata": {},
   "outputs": [
    {
     "name": "stdout",
     "output_type": "stream",
     "text": [
      "<class 'pandas.core.frame.DataFrame'>\n",
      "Int64Index: 2000 entries, 0 to 999\n",
      "Data columns (total 2 columns):\n",
      " #   Column  Non-Null Count  Dtype \n",
      "---  ------  --------------  ----- \n",
      " 0   Data    2000 non-null   object\n",
      " 1   Actual  2000 non-null   object\n",
      "dtypes: object(2)\n",
      "memory usage: 46.9+ KB\n"
     ]
    }
   ],
   "source": [
    "data.info()"
   ]
  },
  {
   "cell_type": "code",
   "execution_count": null,
   "id": "1d1234d0",
   "metadata": {},
   "outputs": [],
   "source": []
  }
 ],
 "metadata": {
  "kernelspec": {
   "display_name": "Python 3",
   "language": "python",
   "name": "python3"
  },
  "language_info": {
   "codemirror_mode": {
    "name": "ipython",
    "version": 3
   },
   "file_extension": ".py",
   "mimetype": "text/x-python",
   "name": "python",
   "nbconvert_exporter": "python",
   "pygments_lexer": "ipython3",
   "version": "3.8.8"
  }
 },
 "nbformat": 4,
 "nbformat_minor": 5
}
